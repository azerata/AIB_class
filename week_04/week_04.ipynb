{
 "cells": [
  {
   "cell_type": "markdown",
   "metadata": {},
   "source": [
    "## Exercise 4.1\n",
    "\n",
    "\n",
    "Explain why SP-score is not column based if the score function used to score the pairwise induced alignments (PairScore) is global alignment with affine gap cost."
   ]
  },
  {
   "cell_type": "markdown",
   "metadata": {},
   "source": [
    "### Answer 4.1\n",
    "\n",
    "The affine gap cost needs information of \"block identity\" to know if it's extending a gap or creating a new.\n",
    "We can't do that column based"
   ]
  },
  {
   "cell_type": "markdown",
   "metadata": {},
   "source": [
    "## Exercise 4.2\n",
    "\n",
    "\n",
    "On slide 12 in the slides about multiple alignment, we compute D(i1,...,ik) by a minimization over all possible last columns in an alignment of S1[1..i1],...,Sk[1..ik]. For k=3 we must minimize over 7 possible last columns, for k=4 we must minimize over 15 possible last columns etc. For a particular value of k, we must minimize over 2k-1 possible last columns. Explain how to implement an iteration over \"all possible last columns\" (efficiently) in your favorite programming language."
   ]
  },
  {
   "cell_type": "markdown",
   "metadata": {},
   "source": [
    "### Answer 4.2\n",
    "O(k*k-1)(2^k -1)\n",
    "\n",
    "> for i in 0 to n\n",
    "    >> for t in i to 2^k -1\n",
    "        >>> for j in 0 to k-1\n",
    "            >>>> for l in j + i to k\n",
    "\n",
    "The different possible last columns follow a bit pattern"
   ]
  },
  {
   "cell_type": "markdown",
   "metadata": {},
   "source": [
    "## Exercise 4.3\n",
    "\n",
    "How long does it take to compute the score of an optimal multiple alignment (with column based SP-score) of 3 sequences of length 200 on your computer? (You can of course implement the method and measure its running time, but you are also welcome to think about other ways of calculating a good estimate of the running time).\n",
    "\n",
    "How long do you estimate it takes to compute the score of an multiple optimal alignment (with column based SP-score) of 5 sequences of length 200 on the same computer (assume that you have sufficient space)."
   ]
  },
  {
   "cell_type": "markdown",
   "metadata": {},
   "source": [
    "### Answer 4.3\n",
    "\n",
    "n^k * 2^k * n^2k^2+k(k-1)/2\n",
    "\n",
    "n^k is the big O\n",
    "\n",
    "k(k-1)/2 distinct pairs of object to compare\n",
    "\n"
   ]
  },
  {
   "cell_type": "markdown",
   "metadata": {},
   "source": [
    "## Exercise 4.4\n",
    "\n",
    "\n",
    "In the 2-approximation algorithm for SP MSA, we say (slide 2 from the lecture) that if d(x,y) is a metric between characters, then weighted edit distance between two strings, S and S', based on d, is also a metric. Argue why."
   ]
  },
  {
   "cell_type": "markdown",
   "metadata": {},
   "source": [
    "### Answer 4.4\n",
    "\n",
    "we know that d(x,y) is a metric between characters (we introduce it as such)\n",
    "As long as we don't change anything about d.\n",
    "the sum of all d(x,y) is still a metric, and selecting the minimum is still possible.\n",
    "\n",
    "* d(x,y) = 0 <=> x = y          # Identity of indiscernible\n",
    "* d(x,y) = d(y,x)               # Symmetry\n",
    "* d(x,z) =< d(x,y) + d(y,z)     # Triangle Inequality\n"
   ]
  },
  {
   "cell_type": "markdown",
   "metadata": {},
   "source": [
    "## Exercise 4.5\n",
    "\n",
    "On slide 11 in the slides about the 2-approximation algorithm is an example showing how to extend M3to M4 based on a given alignment of S1 and S4. Say that we have the following alignment of S1 and S5:\n",
    "\n",
    "-ac-gt\n",
    "\n",
    "g-tagt\n",
    "\n",
    "Show how to extend M4 to M5 based on this alignment, and show that the scores of the pairwise alignments of S1 against S2, S3, and S4 as induced by M4 and M5 are the same."
   ]
  },
  {
   "cell_type": "markdown",
   "metadata": {},
   "source": [
    "### Answer 4.5\n",
    "\n",
    "In a multiple alignment we may have pairs of sequences that have gap to gap pairings, but in the alignment between them, we ignore those,\n"
   ]
  },
  {
   "cell_type": "markdown",
   "metadata": {},
   "source": [
    "## Exercise 4.6\n",
    "\n",
    "On slide 12 in the slides about the 2-approximation algorithm it is shown how the MSA is constructed iteratively by extending an MSA Mi-1of S1,...,Si-1 to an MSA Mi of S1,...,Si based on an optimal pairwise alignment of S1 and Si. The final MSA Mk must obey that the induced pairwise alignment of S1 and Si, for any i, is an optimal pairwise alignment of S1 and Si.\n",
    "\n",
    "Consider the following 4 sequences: S1=act, S2=agct, S3=aact, and S4=acct. Since we cf. slide 2 have a metric score function, optimal pairwise alignments between S1 and the other 3 sequences are:\n",
    "\n",
    "a-ct\n",
    "\n",
    "agct\n",
    "\n",
    "a-ct\n",
    "\n",
    "aact\n",
    "\n",
    "\n",
    "a-ct\n",
    "\n",
    "acct\n",
    "\n",
    "\n",
    "The following two multiple alignments both obey that the induced pairwise alignment of S1 and Si, for any i, is an optimal pairwise alignment of S1 and Si, i.e. they are both possible outcomes of the approxmation algorithm depending on how one chooses to implement it. Which of the two alignment do you prefer? Why?\n",
    "\n",
    "a-ct\n",
    "\n",
    "\n",
    "agct\n",
    "\n",
    "\n",
    "aact\n",
    "\n",
    "\n",
    "acct\n",
    "\n",
    "\n",
    "a---ct\n",
    "\n",
    "\n",
    "ag--ct\n",
    "\n",
    "\n",
    "a-a-ct\n",
    "\n",
    "\n",
    "a--cat"
   ]
  },
  {
   "cell_type": "markdown",
   "metadata": {},
   "source": [
    "### Answer 4.6"
   ]
  }
 ],
 "metadata": {
  "interpreter": {
   "hash": "cfcc9e40151a9345a48be6bf12fffe03ea31825d778596c1b55125580c922a91"
  },
  "kernelspec": {
   "display_name": "Python 3.8.3 ('base')",
   "language": "python",
   "name": "python3"
  },
  "language_info": {
   "codemirror_mode": {
    "name": "ipython",
    "version": 3
   },
   "file_extension": ".py",
   "mimetype": "text/x-python",
   "name": "python",
   "nbconvert_exporter": "python",
   "pygments_lexer": "ipython3",
   "version": "3.8.3"
  },
  "orig_nbformat": 4
 },
 "nbformat": 4,
 "nbformat_minor": 2
}
