{
 "cells": [
  {
   "cell_type": "markdown",
   "metadata": {},
   "source": [
    "## Exercise 11.1\n",
    "Recall the Bunemann-tree algorithm. Here we introduced the concept of a set of compatible splits. Let S be a set of size n. What is the maximum size of a set of compatible splits of S (including trivial splits)? Why?\n"
   ]
  },
  {
   "cell_type": "markdown",
   "metadata": {},
   "source": [
    "## Exercise 11.2\n",
    "Let S be a set of 5 species 1,2,3,4,5. Make an incompatible set of splits which contains less than or equal to 7 splits (including trivial splits).\n"
   ]
  },
  {
   "cell_type": "markdown",
   "metadata": {},
   "source": [
    "## Exercise 11.3\n",
    "Recall the simple 2D HP lattice model as introduced on the slides from the lecture. Let S be a HP-string of length n. Find non-trivial lower- and upper-bounds on the number of legal folds of S (as a function of n).\n"
   ]
  },
  {
   "cell_type": "markdown",
   "metadata": {},
   "source": [
    "### Answer 11.3\n",
    "\n",
    "First step = 4 posiible folds, each further step has 3. n steps\n",
    "Final step has no further folds \n",
    "upper bound 3^n-1\n",
    "lower 2^n if we restrict to 2 directions, (if we restrict ourselves to 1, we would have a straight line)"
   ]
  },
  {
   "cell_type": "markdown",
   "metadata": {},
   "source": [
    "## Exercise 11.4\n",
    "Let S be a HP-string of length n. Define Odd(S) as the set of odd positions in S where there is an H, i.e. Odd(S) = {i | i mod 2 = 1 and S[i] = H}, similarly define Even(S) as the set of even positions in S where there is an H, i.e. Even(S) = {i | i mod 2 = 0 and S[i] = H}. Recall that the score of a fold of S in the 2D HP-model is the number of non-local H-H bonds. Explain why such a non-local bond always contains one H from a position in Odd(S), and one H from a position Even(S).\n"
   ]
  },
  {
   "cell_type": "markdown",
   "metadata": {},
   "source": [
    "## Exercise 11.5\n",
    "Let S be a HP-string of length n. The score of a fold of S in the 2D HP-model is the number of non-trivial H-H bonds. Can you formulate a (non-trivial) upper bound on the optimal score, Opt(S), of a folding of S in the 2D HP model."
   ]
  },
  {
   "cell_type": "markdown",
   "metadata": {},
   "source": [
    "### answer 11.5\n",
    "\n",
    "Given a HP string, in all interactions must be even to odd (vice-versa), so only every other link of the string (plus 2 from the ends)\n",
    "(there can only be as many electrostatic thingies as there are evens or odds)"
   ]
  }
 ],
 "metadata": {
  "language_info": {
   "name": "python"
  },
  "orig_nbformat": 4
 },
 "nbformat": 4,
 "nbformat_minor": 2
}
