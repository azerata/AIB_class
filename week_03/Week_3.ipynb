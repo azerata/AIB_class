{
 "cells": [
  {
   "cell_type": "markdown",
   "metadata": {},
   "source": [
    "Exercise 3.1\n",
    "\n",
    "What is the optimal (i.e. maximal) cost of a local alignment of AATAAT and AAGG using the above substitution matrix and a gap cost of -5? and gap cost 0?\n",
    "\n",
    "What is the optimal (i.e. maximal) cost of a global alignment of AATAAT and AAGG using the same substitution matrix and gap costs? Are the optimal costs different between local and global alignment? Why? Why not?"
   ]
  },
  {
   "cell_type": "markdown",
   "metadata": {},
   "source": [
    "Answer 3.1:\n",
    "\n",
    "AATA  (gap -5)\n",
    "AAGG\n",
    "\n",
    "AATAA (gap 0)\n",
    "AA-GG"
   ]
  },
  {
   "cell_type": "markdown",
   "metadata": {},
   "source": [
    "Exercise 3.2\n",
    "Explain how to find the optimal cost of a local alignment of two sequences A[1..n] and B[1..m] in time O(nm) and space O(n).\n",
    "\n",
    "Let us say that the A[h+1..i*] and B[k+1..j*] is a pair of segments with maximum similarity, i.e. their similarity is the cost of an optimal local alignment of A[1..n] and B[1..m]. Explain how to find (i*,j*) and (h,k) in linear space. Finding (i*,j*) should be easy, but you may have to think about how to find (h,k) in linear space.\n",
    "\n",
    "Explain how to a find an optimal local alignment of two sequences A[1..n] and B[1..m] in time O(nm) and space O(n)."
   ]
  },
  {
   "cell_type": "markdown",
   "metadata": {},
   "source": [
    "Answer 3.2:\n",
    "\n",
    "Backtrack as normal to find optimal end point in sequence for local alignment (until the end point j of the shortest seq, there will be gaps which will lower the score.)\n",
    "by backtracking normally we can find that j. and start building an alignment from there.\n",
    "\n",
    "----x\n",
    "\n",
    "----x\n",
    "\n",
    "----x\n",
    "\n",
    "---0x\n",
    "\n",
    "xxxxx\n",
    "\n",
    "A local alignment will have start point (i,j) and end point (i',j')"
   ]
  },
  {
   "cell_type": "markdown",
   "metadata": {},
   "source": [
    "Exercise 3.3\n",
    "\n",
    "Can Hirschberg's idea for finding an optimal alignment of A[1..n] and B[1..m] with linear gapcost in time O(nm) and space O(n) be extended to find an optimal alignment of A and B with affine gapcost in time O(nm) and space O(n)? Are there any problems?"
   ]
  },
  {
   "cell_type": "markdown",
   "metadata": {},
   "source": [
    "Answer 3.3:\n",
    "\n",
    "D, S & I table\n",
    "explanation in slides\n",
    "find middle edge and choose max from the row as partition, recurse \n",
    "\n",
    "In affine gap cost, we have a problem that our partition points can be placed in a gap, and then we lose the affine gap count\n"
   ]
  },
  {
   "cell_type": "markdown",
   "metadata": {},
   "source": [
    "Exercise 3.4\n",
    "Consider pairwise global alignment with linear gap cost of two strings of length n and m. Make an algorithm that can count all optimal alignments of such two strings in time O(nm). Make an algorithm that can count all alignments of two strings of lengths n and m in time O(nm). How many alignments are there of two strings of lengths 7 and 8?"
   ]
  },
  {
   "cell_type": "markdown",
   "metadata": {},
   "source": [
    "Anwser 3.4:\n",
    "\n"
   ]
  },
  {
   "cell_type": "markdown",
   "metadata": {},
   "source": [
    "Exercise 3.5\n",
    "Sometimes one is interested in finding an optimal global alignment with atmost k gap blocks (where a gap block is a consecutive block of gaps in one sequence, see slides fx about affine gapcost). Design an algorithm which given two sequence A[1..n] and B[1..m], a score matrix and linear gapcost, and a number k, computes the optimal cost of a global alignment of A and B containing at most k gap blocks. What is the running time and space consumption of your algorithm?\n",
    "\n"
   ]
  },
  {
   "cell_type": "markdown",
   "metadata": {},
   "source": [
    "Answer 3.5:\n",
    "Match table, and in / del tables, add 3rd dimension (k) which measures #gaps \n",
    "\n",
    "cases:"
   ]
  },
  {
   "cell_type": "markdown",
   "metadata": {},
   "source": [
    "Exercise 3.6\n",
    "Running time in practice vs theory: Say that you have implemented an algorithm, fx the algorithm for computing the optimal cost of a global pairwise alignment with linear gap cost of two strings of lengths n and m, which has an asymptotic worst case time complexity of O(nm). What does this mean, and how would you verify that the running time of your implementation in practice is as expected cf. its theoretical (worst case) time complexity?"
   ]
  },
  {
   "cell_type": "markdown",
   "metadata": {},
   "source": []
  }
 ],
 "metadata": {
  "language_info": {
   "name": "python"
  },
  "orig_nbformat": 4
 },
 "nbformat": 4,
 "nbformat_minor": 2
}
