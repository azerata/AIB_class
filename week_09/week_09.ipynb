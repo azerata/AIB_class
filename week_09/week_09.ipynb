{
 "cells": [
  {
   "cell_type": "markdown",
   "metadata": {},
   "source": [
    "## Exercise 9.1\n",
    "An often used distance measure between trees with edge lengths is the sum of the square of differences in edge lengths for equivalent splits/edges between two trees, with the edge length for a missing split taken to be 0.0. How fast can you compute this distance between two unrooted trees? (This distance measure is also referred to as the Branch Score Distance introduced by Kuhnerand Felsenstein in 2004, see the TreeDist www-page for an example/explanation.)"
   ]
  },
  {
   "cell_type": "markdown",
   "metadata": {},
   "source": [
    "o(n^2) run through the list of distances in one tree, see if it exists in the other, compute difference (a - b)^2 if it is not in the other (a - 0)^2..\n",
    "\n",
    "If the lists are ordered we can do faster?\n",
    "In the same way that we merge two ordered lists in linear time.."
   ]
  },
  {
   "cell_type": "markdown",
   "metadata": {},
   "source": [
    "## Exercise 9.2\n",
    "In the slides about tree construction, we introduce the average linkage distance between two clusters Ciand Cj as the average distance between all pairs of items in Ci and Cj. We claim that if a cluster Ck is the union of two disjoint clusters Ci and Cj, then average linkage distance between Ck and another cluster Cl can be computed as:\n",
    "\n",
    "D(Ck,Cl) = (D(Ci,Cl)|Ci| + D(Cj,Cl) |Cj|) / (|Ci| + |Cj|)\n",
    "\n",
    "Show that this is true."
   ]
  },
  {
   "cell_type": "markdown",
   "metadata": {},
   "source": []
  },
  {
   "cell_type": "markdown",
   "metadata": {},
   "source": [
    "## Exercise 9.3\n",
    "In the canonical (Saitou and Nei) NJ algorithm as explained in the slides about tree construction, we set the edge lengths e(i,k) and e(j,k) on the edges from i and j to the new node k to e(i,k)=(dij + ri - rj)/2 and e(j,k)=(dij + rj - ri)/2, whereas we in the more generic formulation of the NJ algorithm sets them to e(i,k)=(dij + dim - djm)/2 and e(j,k)=(dij + djm - dim)/2, for some node m. Explain why what is done in Saitou and Nei's algorithm is the same as in the generic algorithm when the unknown true tree is additive."
   ]
  },
  {
   "cell_type": "markdown",
   "metadata": {},
   "source": []
  },
  {
   "cell_type": "markdown",
   "metadata": {},
   "source": [
    "## Exercise 9.4\n",
    "Recall that we in the presentation of Day's algorithm say that we can sort the list of collected DF-intervals in time O(n) by using radix-sort. Explain why this is the case, and how it is done."
   ]
  },
  {
   "cell_type": "markdown",
   "metadata": {},
   "source": [
    "* list of things: [194, 239, 22, 930, 99, 304]\n",
    "* make all things same length: [194, 239, 022, 930, 099, 304]\n",
    "* put into buckets based on their least significant digit (last digit)\n",
    "* [930], [022], [194, 304], [239, 099]\n",
    "* concatinate list, then bucket using next digit\n",
    "* [930, 022, 194, 304, 239, 099]\n",
    "* [304], [022], [930, 239], [194, 099]\n",
    "* [304, 022, 930, 239, 194, 099]\n",
    "* [022, 099], [194], [239], [304] [930]\n",
    "* [022, 099, 194, 239, 304, 930]"
   ]
  }
 ],
 "metadata": {
  "language_info": {
   "name": "python"
  },
  "orig_nbformat": 4
 },
 "nbformat": 4,
 "nbformat_minor": 2
}
