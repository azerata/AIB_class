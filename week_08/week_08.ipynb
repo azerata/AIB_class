{
 "cells": [
  {
   "cell_type": "markdown",
   "metadata": {},
   "source": [
    "## Exercise 8.2\n",
    "Write the rooted tree on slide 14  and the unrooted tree from slide 17 in the slides Evolutionary_Trees.pdf from the lecture on Monday in Newick format. You can ignore edge lengths for the tree on slide 14."
   ]
  },
  {
   "cell_type": "markdown",
   "metadata": {},
   "source": [
    "* ((((Or,(Go,(Ch, Hu)))Gi)Ma)Co)\n",
    "* (((E, C), A)(B,D))"
   ]
  },
  {
   "cell_type": "markdown",
   "metadata": {},
   "source": [
    "## Exercise 8.3\n",
    "If we construct a NJ tree using the program QuickTree from the following input matrix:"
   ]
  },
  {
   "cell_type": "markdown",
   "metadata": {},
   "source": [
    "((Alpha, Beta), Gamma), (Delta, Epsilon)"
   ]
  },
  {
   "cell_type": "markdown",
   "metadata": {},
   "source": [
    "## Exercise 8.4\n",
    "The split-distance, split-dist(T1, T2), between two trees T1 and T2 is defined as \"the number of splits in T1 which are not in T2\". The measure is not symmetric as illustrated by the example in the lecture. However, if T1 and T2 are binary trees, then split-dist(T1, T2) = split-dist(T2, T1). Why?"
   ]
  },
  {
   "cell_type": "markdown",
   "metadata": {},
   "source": []
  },
  {
   "cell_type": "markdown",
   "metadata": {},
   "source": [
    "## Exercise 8.5\n",
    "In Day's algorithm for computing the RF-distance we compute a depth-first (DF) numbering of the leaves in the rooted T1. A leaf in T1 thus has its original name and its DF name. To implement the algorithm efficient we must be able to get the one from the other in constant time. Explain how to make two arrays, ORIG and DF, each of size n, such that ORIG[i] is the original name of the node with DF name i, and similarly, DF[i] is the DF name of the node with original name i. (Since Day's algorithm should run in time O(n), you should be able to construct these arrays in time O(n))."
   ]
  },
  {
   "cell_type": "markdown",
   "metadata": {},
   "source": []
  },
  {
   "cell_type": "markdown",
   "metadata": {},
   "source": [
    "## Exercise 8.6\n",
    "How many unrooted leaf labeled binary trees with 10 leaves are there?\n",
    "\n",
    "Make a recursion for counting the number of unrooted leaf labeled binary trees with n leaves. You might be inspired by the recursion for counting rooted leaf labeled binary trees presented in the lecture. (Just to get you started, the number of trees with 2 to 4 leaves are: U(2)=1, U(3)=1, U(4)=3).\n",
    "\n",
    "How many unrooted leaf labeled trees (i.e. not only binary trees) with 10 leaves are there?\n",
    "\n",
    "Can you also make a recursion for counting the number of unrooted leaf labeled trees (i.e. not only binary trees)?"
   ]
  },
  {
   "cell_type": "markdown",
   "metadata": {},
   "source": [
    "def u(n)\n",
    "if n == 3 or n ==2:\n",
    "    return 1\n",
    "else\n",
    "    u(n-1)*(2n - 5)"
   ]
  }
 ],
 "metadata": {
  "language_info": {
   "name": "python"
  },
  "orig_nbformat": 4
 },
 "nbformat": 4,
 "nbformat_minor": 2
}
