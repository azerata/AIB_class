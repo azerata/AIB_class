{
 "cells": [
  {
   "cell_type": "markdown",
   "metadata": {},
   "source": [
    "## Exercise 7.1\n",
    "In the Four-Russian algorithm for computing unit-cost edit distance, the parameter t specifies the size of the blocks that are precomputed. On slide 42 in the slides from the lecture, we compute that we cf. the theory should pick t = 2 for n < 20736, i.e. all inputs in practice. How would you implement the block-function in this case (we assume that the alphabet size is 4)? (Think about how many bits you need to encode the input (B', C', x, and y) and the output (F').) How would it change if we pick t=3?"
   ]
  },
  {
   "cell_type": "markdown",
   "metadata": {},
   "source": [
    "### Answer 7.1\n",
    "\n",
    "* B' & C' = 2 * 2 bits = 8 bits\n",
    "* X & Y = 8 bits, \n",
    "16 bits for each permutation, \n",
    "2^16 "
   ]
  },
  {
   "cell_type": "markdown",
   "metadata": {},
   "source": [
    "## Exercise 7.2\n",
    "One might say that the Four-Russian algorithm makes little sense if we pick t=1. However, this is of course possible. How would you implement the block-function for t=1? Recall that the slides from the lecture actually shows that the Four-Russian algorithm with t=1 is faster than a direct implementation of unit-cost edit distance using dynamic programming. Why do you think that this is the case?"
   ]
  },
  {
   "cell_type": "markdown",
   "metadata": {},
   "source": [
    "### Answer 7.2\n",
    "Precomputing stuff is faster, because we reduce the number of comparisons, and the amount of stuff to precompute is reasonably small compared to the work to be done in regular alignment"
   ]
  },
  {
   "cell_type": "markdown",
   "metadata": {},
   "source": [
    "## Exercise 7.3\n",
    "Prove that the neighboring cells in rows and columns in the dynamic programming table differ by at most one, i.e. that it is possible to use offset-encoding. (The proof is in the slides, so this exercise is about understanding this proof, or making another one.)"
   ]
  },
  {
   "cell_type": "markdown",
   "metadata": {},
   "source": []
  }
 ],
 "metadata": {
  "language_info": {
   "name": "python"
  },
  "orig_nbformat": 4
 },
 "nbformat": 4,
 "nbformat_minor": 2
}
