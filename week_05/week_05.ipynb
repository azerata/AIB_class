{
 "cells": [
  {
   "cell_type": "markdown",
   "metadata": {},
   "source": [
    "## Exercise 5.1\n",
    "A very essential part of the 2-approximation algorithm for computing a multiple sequence alignment is the step where the current multiple alignment of sequence 1 to i-1 is extended to a multiple alignment of sequence 1 to i by merging in the optimal pairwise alignment of sequence 1 and i. In the pseudocode on slide 10 in the slides from week 4, this step is written as \"Mi = \"Mi-1 extended with A\". Write a more elaborate pseudocode that describes how to do this. (It is important to think about how to represent an alignment.)"
   ]
  },
  {
   "cell_type": "markdown",
   "metadata": {},
   "source": [
    "### Answer 5.1\n",
    "Cases that need to be handled: \n",
    "* Gap introduced in S4, but not found in A\n",
    "* Gap introduced in M3, but not found in A\n",
    "\n",
    "Cases:\n",
    "* M = '-', A = '-'. add 'x' to MA, increment both\n",
    "* M = '-', A != '-'. Add '-' to MA, increment M\n",
    "* M != '-', A = '-'. Add - to previous alignments, increment A\n",
    "* M != '-', A != '-'. Add 'x' to MA and increment both"
   ]
  },
  {
   "cell_type": "markdown",
   "metadata": {},
   "source": [
    "## Exercise 5.2\n",
    "A set of pairwise alignments are compatible, if they can be induced from a single multiple alignment. Can you construct a set of pairwise alignment that are not compatible?"
   ]
  },
  {
   "cell_type": "markdown",
   "metadata": {},
   "source": [
    "### Answer 5.2\n",
    "if gaps are introduced so that the alignments are fine between some sequences but not all\n",
    "\n",
    "* tgg\n",
    "* ggat\n",
    "* at\n",
    "- \n",
    "\n",
    "* tgg--\n",
    "* -ggat\n",
    "* ---at\n",
    "- \n",
    "\n",
    "* tgg--\n",
    "* -ggat\n",
    "- \n",
    "\n",
    "* -tgg\n",
    "* at--\n",
    "- \n",
    "\n",
    "* ggat\n",
    "* --at"
   ]
  },
  {
   "cell_type": "markdown",
   "metadata": {},
   "source": [
    "## Exercise 5.3\n",
    "Let M be a multiple alignment of k sequences. Argue that if the k*(k-1)/2 induced pairwise alignments are optimal, then M is an optimal multiple alignment wrt. SP-score."
   ]
  },
  {
   "cell_type": "markdown",
   "metadata": {},
   "source": [
    "### Answer 5.3\n",
    "\n",
    "Each part is an optimal, then sum of all parts is also optimal"
   ]
  },
  {
   "cell_type": "markdown",
   "metadata": {},
   "source": [
    "## Exercise 5.4\n",
    "The 2-approximation algorithm can be used to get a (provable good) upper-bound on the score of an SP multiple alignment of k string S1[1..n1],...,Sk[1..nk] (remember that an optimal alignment is one with minimum score). Can you give a lower bound on the score of the SP multiple alignment of the k strings? Can you give a lower bound on the score of SP multiple alignment of the suffixes S1[i1..n1],...,Sk[ik..nk] of the k strings?"
   ]
  },
  {
   "cell_type": "markdown",
   "metadata": {},
   "source": [
    "### Answer 5.4\n",
    "SP(M) = 1/2 sum(i = 1 -> k) sum(j = i -> k, i!=j) score(M(Si,Sj))\n"
   ]
  },
  {
   "cell_type": "markdown",
   "metadata": {},
   "source": [
    "## Exercise 5.5\n",
    "In the derivation of the upper bound of the score of the MSA computed by the 2-approximation algorithm, we use that d(i,j) <= d(1,i) + d(1,j), where d(i,j) is the score of the pairwise alignment indiced by M for sequence i and j. Explain why the inequality is true."
   ]
  },
  {
   "cell_type": "markdown",
   "metadata": {},
   "source": [
    "### Answer 5.5\n",
    "\n",
    "score(m(S_i, S_j))\n",
    "d(i,j) =< d(1,i) + d(1,j)\n",
    "Any other d would increase the size of MA, which means a worse score\n"
   ]
  }
 ],
 "metadata": {
  "language_info": {
   "name": "python"
  },
  "orig_nbformat": 4
 },
 "nbformat": 4,
 "nbformat_minor": 2
}
